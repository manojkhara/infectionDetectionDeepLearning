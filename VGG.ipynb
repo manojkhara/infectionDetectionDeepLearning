{
  "nbformat": 4,
  "nbformat_minor": 0,
  "metadata": {
    "colab": {
      "provenance": [],
      "collapsed_sections": [],
      "include_colab_link": true
    },
    "kernelspec": {
      "name": "python3",
      "display_name": "Python 3"
    },
    "accelerator": "GPU"
  },
  "cells": [
    {
      "cell_type": "markdown",
      "metadata": {
        "id": "view-in-github",
        "colab_type": "text"
      },
      "source": [
        "<a href=\"https://colab.research.google.com/github/manojkhara/infectionDetectionDeepLearning/blob/main/VGG.ipynb\" target=\"_parent\"><img src=\"https://colab.research.google.com/assets/colab-badge.svg\" alt=\"Open In Colab\"/></a>"
      ]
    },
    {
      "cell_type": "code",
      "metadata": {
        "id": "ldoyXZD2sjbm"
      },
      "source": [
        "# The purpose of this challenge is to develop methods for automatic ocular disease classification.\n",
        "# With color fundus images from left and right eyes as inputs (may use other provided information, \n",
        "# such as patient age, sex),the goal of challenge is to classify patient into eight labels including \n",
        "# normal (N), diabetes (D), glaucoma (G), cataract (C), AMD (A), hypertension (H), myopia (M) \n",
        "# and other diseases/abnormalities (O) based on both eye images and additionally patient age. "
      ],
      "execution_count": null,
      "outputs": []
    },
    {
      "cell_type": "code",
      "metadata": {
        "id": "JGf2Y763ip1o"
      },
      "source": [
        "# pip install tf-nightly-2.0-preview==2.0.0.dev20191002"
      ],
      "execution_count": null,
      "outputs": []
    },
    {
      "cell_type": "code",
      "metadata": {
        "id": "S_Nv2IDm1v65",
        "outputId": "25e542d2-f002-4798-e68e-87316ed97808",
        "colab": {
          "base_uri": "https://localhost:8080/",
          "height": 64
        }
      },
      "source": [
        "import torch\n",
        "import torch.nn as nn\n",
        "from torch.nn import Module\n",
        "from torch.autograd import Variable\n",
        "from torch.utils.data import DataLoader,TensorDataset\n",
        "from torch.optim import lr_scheduler\n",
        "import torchvision.models as models\n",
        "import torchvision\n",
        "import torchvision.transforms as transforms\n",
        "from torchsummary import summary                                                 # used for printing model used\n",
        "from tensorflow import summary\n",
        "# from torch.utils.tensorboard import SummaryWriter\n",
        "\n",
        "import numpy as np\n",
        "import scipy.io as sio\n",
        "import glob\n",
        "import pandas as pd\n",
        "\n",
        "import matplotlib.pyplot as plt\n",
        "import matplotlib.image as mpimg \n",
        "from PIL import Image \n",
        "import cv2 as cv\n",
        "import csv\n",
        "\n",
        "import os\n",
        "from tqdm import tqdm_notebook                                                   # to get % bar of how much percent is left for all epoch to finish while training\n",
        "import time\n",
        "import datetime\n",
        "import itertools\n",
        "\n",
        "from google.colab import files\n",
        "from google.colab import drive\n",
        "\n",
        "from sklearn.metrics import accuracy_score\n",
        "from sklearn.metrics import f1_score\n",
        "from sklearn.metrics import cohen_kappa_score\n",
        "from sklearn.metrics import roc_auc_score"
      ],
      "execution_count": null,
      "outputs": [
        {
          "output_type": "display_data",
          "data": {
            "text/html": [
              "<p style=\"color: red;\">\n",
              "The default version of TensorFlow in Colab will soon switch to TensorFlow 2.x.<br>\n",
              "We recommend you <a href=\"https://www.tensorflow.org/guide/migrate\" target=\"_blank\">upgrade</a> now \n",
              "or ensure your notebook will continue to use TensorFlow 1.x via the <code>%tensorflow_version 1.x</code> magic:\n",
              "<a href=\"https://colab.research.google.com/notebooks/tensorflow_version.ipynb\" target=\"_blank\">more info</a>.</p>\n"
            ],
            "text/plain": [
              "<IPython.core.display.HTML object>"
            ]
          },
          "metadata": {
            "tags": []
          }
        }
      ]
    },
    {
      "cell_type": "code",
      "metadata": {
        "id": "xDDL4wW9gp0f"
      },
      "source": [
        "# %reload_ext tensorboard"
      ],
      "execution_count": null,
      "outputs": []
    },
    {
      "cell_type": "code",
      "metadata": {
        "id": "CyE0QIDaDWf_",
        "outputId": "2b47991b-4e01-4fad-9b8d-45b98e7b1584",
        "colab": {
          "base_uri": "https://localhost:8080/",
          "height": 35
        }
      },
      "source": [
        "from google.colab import drive\n",
        "drive.mount('/content/drive')"
      ],
      "execution_count": null,
      "outputs": [
        {
          "output_type": "stream",
          "text": [
            "Drive already mounted at /content/drive; to attempt to forcibly remount, call drive.mount(\"/content/drive\", force_remount=True).\n"
          ],
          "name": "stdout"
        }
      ]
    },
    {
      "cell_type": "code",
      "metadata": {
        "id": "fCg2x4O9ERU6",
        "outputId": "3d518a02-72b4-4e11-e257-7cab0cfa72f4",
        "colab": {
          "base_uri": "https://localhost:8080/",
          "height": 35
        }
      },
      "source": [
        "cd /content/drive/My Drive/trial/Colab-Notebooks/ODIR_dataset"
      ],
      "execution_count": null,
      "outputs": [
        {
          "output_type": "stream",
          "text": [
            "/content/drive/My Drive/trial/Colab-Notebooks/ODIR_dataset\n"
          ],
          "name": "stdout"
        }
      ]
    },
    {
      "cell_type": "code",
      "metadata": {
        "id": "xgPYhznjE1WN"
      },
      "source": [
        "Train_set_path      = \"ODIR-5K_Training_Dataset\"\n",
        "Test_set_path       = \"ODIR-5K_Testing_Dataset\"\n",
        "Train_values        = \"New_ODIR-5K_Training_Annotations(Updated)_V2.xlsx\"\n",
        "Validate_values     = \"New_ODIR-5K_Validation_Annotations(Updated)_V2.xlsx\"\n",
        "# writer = SummaryWriter('runs/ODIR_trial')\n",
        "\n",
        "Train_set           = os.listdir(Train_set_path)"
      ],
      "execution_count": null,
      "outputs": []
    },
    {
      "cell_type": "markdown",
      "metadata": {
        "id": "2XghkT1xJcHq"
      },
      "source": [
        "min column shape = 1444, max column shape = 5184 || min row shape = 893, max row shape = 3456"
      ]
    },
    {
      "cell_type": "code",
      "metadata": {
        "id": "vwjeNPQbHu5c"
      },
      "source": [
        "class ODIR_train():\n",
        "    \"ophthalmologic image train dataset\"\n",
        "\n",
        "    def __init__(self, xlsx_file, root_dir1, transform=None): \n",
        " \n",
        "        self.read = pd.read_excel(xlsx_file)\n",
        "        self.root_dir1 = root_dir1\n",
        "        self.transform = transform\n",
        "   \n",
        "    def __len__(self):\n",
        "        return len(self.read)\n",
        "\n",
        "    def name(self,idx):\n",
        "      img_name_train = self.read.iloc[idx,3]\n",
        "      return(img_name_train)\n",
        "    \n",
        "    def condition_left(self,idx):\n",
        "      img_condition_train_left = self.read.iloc[idx,5]\n",
        "      return(img_condition_train_left)\n",
        "\n",
        "    def condition_right(self,idx):\n",
        "      img_condition_train_right = self.read.iloc[idx,6]\n",
        "      return(img_condition_train_right) \n",
        "\n",
        "    def __getitem__(self, idx):                              \n",
        "\n",
        "        img_path_train_left = os.path.join(self.root_dir1,self.read.iloc[idx,3])  # read the name of image from sheet\n",
        "        sample_train_left   = cv.imread(img_path_train_left)\n",
        "        img_path_train_right = os.path.join(self.root_dir1, self.read.iloc[idx, 4])\n",
        "        sample_train_right   = cv.imread(img_path_train_right)\n",
        "\n",
        "        img_path_label  = self.read.iloc[idx, 7:15]                               # read all the 8 label from sheet\n",
        "        img_path_label = img_path_label.astype(\"float\")\n",
        "        sample_label = np.asarray(img_path_label)\n",
        "\n",
        "\n",
        "        if self.transform:\n",
        "            sample_train_left = self.transform(sample_train_left)\n",
        "            sample_train_right = self.transform(sample_train_right)\n",
        "\n",
        "        return (sample_train_left,sample_train_right, sample_label)\n",
        "\n",
        "\n",
        "# ************************************************************************************************************\n",
        "class ODIR_validation():\n",
        "    \"ophthalmologic image train dataset\"\n",
        "\n",
        "    def __init__(self, xlsx_file, root_dir1,  transform=None): \n",
        " \n",
        "        self.read = pd.read_excel(xlsx_file)\n",
        "        self.root_dir1 = root_dir1\n",
        "        self.transform = transform\n",
        "   \n",
        "    def __len__(self):\n",
        "        return len(self.read)\n",
        "\n",
        "    def name(self,idx):\n",
        "      img_name_val = self.read.iloc[idx,3]\n",
        "      return(img_name_val)\n",
        "    \n",
        "    def condition_left(self,idx):\n",
        "      img_condition_val_left = self.read.iloc[idx,5]\n",
        "      return(img_condition_val_left)\n",
        "\n",
        "    def condition_right(self,idx):\n",
        "      img_condition_val_right = self.read.iloc[idx,6]\n",
        "      return(img_condition_val_right) \n",
        "\n",
        "    def __getitem__(self, idx):\n",
        "        img_path_val_left = os.path.join(self.root_dir1, self.read.iloc[idx, 3])\n",
        "        sample_val_left   = cv.imread(img_path_val_left)\n",
        "        img_path_val_right = os.path.join(self.root_dir1, self.read.iloc[idx, 4])\n",
        "        sample_val_right   = cv.imread(img_path_val_right)\n",
        "\n",
        "        img_path_label  = self.read.iloc[idx, 7:15]\n",
        "        img_path_label = img_path_label.astype(\"float\")\n",
        "        sample_label = np.asarray(img_path_label)\n",
        "        \n",
        "        if self.transform:\n",
        "            sample_val_left = self.transform(sample_val_left)\n",
        "            sample_val_right = self.transform(sample_val_right)\n",
        "        return(sample_val_left,sample_val_right,sample_label)\n"
      ],
      "execution_count": null,
      "outputs": []
    },
    {
      "cell_type": "code",
      "metadata": {
        "id": "SAK-0t3SOOXe"
      },
      "source": [
        "batch_size_train = 32\n",
        "batch_size_val = 32\n",
        "\n",
        "num_epochs = 15\n",
        "learning_rate = 0.0001\n",
        "img_width = 224\n",
        "img_height = 224\n",
        "n_class = 8"
      ],
      "execution_count": null,
      "outputs": []
    },
    {
      "cell_type": "code",
      "metadata": {
        "id": "8GSJmRa7GQ3Q"
      },
      "source": [
        "composed_transform = transforms.Compose([transforms.ToPILImage(),transforms.Resize((299,299)),transforms.ToTensor()])\n",
        "\n",
        "traindata = ODIR_train( xlsx_file = Train_values,  root_dir1 = Train_set_path,  transform = composed_transform)\n",
        "trainloader = DataLoader(traindata, batch_size = batch_size_train, shuffle= False ,num_workers=0)\n",
        "\n",
        "validatedata = ODIR_validation( xlsx_file = Validate_values,  root_dir1 = Train_set_path,  transform = composed_transform)\n",
        "validateloader = DataLoader(validatedata, batch_size = batch_size_val, shuffle= False ,num_workers=0)\n",
        "\n",
        "\n",
        "l = len(traindata)\n",
        "for idx in range (l):\n",
        "    img = traindata[idx][0]\n",
        "    label = traindata[idx][1]\n",
        "    condition = traindata.condition_left(idx)\n",
        "    #print(\"image name = \",traindata.name(idx),\" | image shape = \",img.shape,\"| img condition = \",condition, \"| label = \",label)\n",
        "    img = img.permute(2,1,0)\n",
        "\n",
        "    #plt.figure(figsize =(8,8))\n",
        "    #plt.imshow(img)\n",
        "\n",
        "    if idx ==2:\n",
        "      break\n"
      ],
      "execution_count": null,
      "outputs": []
    },
    {
      "cell_type": "markdown",
      "metadata": {
        "id": "WPufLKEN7F6L"
      },
      "source": [
        "https://pytorch.org/tutorials/beginner/transfer_learning_tutorial.html"
      ]
    },
    {
      "cell_type": "code",
      "metadata": {
        "id": "18H0OghUfq6D"
      },
      "source": [
        "model_conv = models.vgg11_bn(pretrained=False)\n",
        "\n",
        "for i, param in model_conv.named_parameters():\n",
        "  param.requires_grad = True\n",
        "\n",
        "# Since imagenet as 1000 classes , We need to change our last layer according\n",
        "# to the number of classes we have also  inception has two outputs 1) primary 2) auxillary\n",
        "\n",
        "# Handle the auxilary net\n",
        "num_ftrs = model_conv.classifier[6].in_features\n",
        "model_conv.classifier[6]= nn.Linear(num_ftrs, n_class)\n",
        "                         \n",
        "model_conv.cuda()\n",
        "\n",
        "criterion = nn.BCEWithLogitsLoss().cuda()                                       # Loss and optimizer\n",
        "optimizer = torch.optim.SGD(model_conv.parameters(), lr=learning_rate)\n",
        "\n",
        "# Decay LR by a factor of 0.1 every 7 epochs\n",
        "# exp_lr_scheduler = lr_scheduler.StepLR(optimizer, step_size=7, gamma=0.1)"
      ],
      "execution_count": null,
      "outputs": []
    },
    {
      "cell_type": "markdown",
      "metadata": {
        "id": "amrkx8cNmzMs"
      },
      "source": [
        "https://medium.com/@iamsdt/using-tensorboard-in-google-colab-with-pytorch-458f9bb95212"
      ]
    },
    {
      "cell_type": "markdown",
      "metadata": {
        "id": "9GTRfk8OwzTx"
      },
      "source": [
        "https://pytorch.org/tutorials/beginner/finetuning_torchvision_models_tutorial.html\n"
      ]
    },
    {
      "cell_type": "code",
      "metadata": {
        "id": "GeKOqobzIwA7"
      },
      "source": [
        "def metrics(tar,out):\n",
        "    f = 0\n",
        "    r = 0\n",
        "    k = 0\n",
        "    a = 0\n",
        "    for i, c in enumerate(zip(out, tar)):\n",
        "        # # print('i in f1_score: ',i)\n",
        "        # print('output for f1_score: ',c[0])\n",
        "        # print(' target for f1_score: ',c[1])\n",
        "\n",
        "        c[0][c[0] > 0.5] = 1                 # threshold = 0.5\n",
        "        c[0][c[0] < 0.5] = 0\n",
        "\n",
        "        out = list(c[0])\n",
        "        tar = list(c[1])\n",
        "        # print(\"after threshold\")\n",
        "        # print(\"output\",out)\n",
        "        # print(\"target\",tar)\n",
        "        \n",
        "        f = f + f1_score(tar, out,average = 'weighted' )\n",
        "        r = r + roc_auc_score(tar, out )\n",
        "        k = k + cohen_kappa_score(tar, out )\n",
        "        a = a + accuracy_score(tar, out)\n",
        "\n",
        "    f = f / (i + 1)\n",
        "    r = r / (i + 1)\n",
        "    k = k / (i + 1)\n",
        "    a = a / (i + 1)\n",
        "    \n",
        "    return(f,k,r,a)\n"
      ],
      "execution_count": null,
      "outputs": []
    },
    {
      "cell_type": "code",
      "metadata": {
        "id": "vh038MFDpQN4"
      },
      "source": [
        "import torch.nn.functional as F"
      ],
      "execution_count": null,
      "outputs": []
    },
    {
      "cell_type": "code",
      "metadata": {
        "id": "VabPxEldQx8s",
        "outputId": "645371dd-3a5c-4d39-b46d-b170b995815f",
        "colab": {
          "base_uri": "https://localhost:8080/",
          "height": 883,
          "referenced_widgets": [
            "4e75d640e35b46ef8db5e273397637db"
          ]
        }
      },
      "source": [
        "training_values = []\n",
        "validation_values = []\n",
        "accuracy_train_values =[]\n",
        "accuracy_val_values =[]\n",
        "\n",
        "for epoch in tqdm_notebook(range(num_epochs)):\n",
        "         \n",
        "    epoch_loss = 0\n",
        "    f1_add = 0\n",
        "    accuracy_add = 0\n",
        "    k_add = 0\n",
        "    auc_add = 0\n",
        "    final_score = 0\n",
        "\n",
        "    for k,train_img in enumerate(trainloader):\n",
        "\n",
        "        inputs_left,inputs_right,labels = train_img\n",
        "        #print(inputs_left.shape,inputs_right.shape)\n",
        "        final = torch.cat((inputs_left,inputs_right),2)\n",
        "        #print('Image output before interpolation',final.shape)\n",
        "        final = F.interpolate(final,224)\n",
        "        final = final.unsqueeze_(0)        \n",
        "        final = final.reshape(batch_size_train,3,img_width,img_height)\n",
        "\n",
        "        model_conv.train(mode=True)            \n",
        "\n",
        "        optimizer.zero_grad()                                                    # zeroes the gradient buffers of all parameters\n",
        "        #inputs_left = inputs_left.cuda()\n",
        "        final = final.cuda()\n",
        "        labels = labels.cuda()\n",
        "        outputs = model_conv(final)                                  # outputs.shape =(batch_size, n_classes, img_cols, img_rows)\n",
        "\n",
        "        loss = criterion(outputs, labels.float())                               # loss from primary output\n",
        "\n",
        "        epoch_loss += loss.item()\n",
        "        loss.backward()                                                          # Backward and optimizeuns\n",
        "        optimizer.step()                                                         # update gradients\n",
        "\n",
        "        labels = labels.cpu().detach().numpy()\n",
        "        outputs = outputs.cpu().detach().numpy()\n",
        "\n",
        "        f1score_, k_score_, auc_score_,accuracy_score_ = metrics(labels, outputs)                # metrics to evaluate accuracy = F1 score, Kappa score and Area under curve\n",
        "        f1_add    += f1score_\n",
        "        k_add     += k_score_\n",
        "        auc_add   += auc_score_\n",
        "        accuracy_add += accuracy_score_\n",
        "\n",
        "        final      = (f1score_ + k_score_ + auc_score_)/3\n",
        "        final_score += final\n",
        "        \n",
        "        if k == 30:                                                              # k is 86 for batch size 32*2; for 2800 training images ( 80% of 3500 patients)  ----- 1920 constant : k*b    32-30-6 # 64-15-3\n",
        "          break\n",
        "      \n",
        "    if (epoch % 1 == 0):\n",
        "        print('[Training] Epoch [{}/{}] | Loss: {:.4f} | f1_score:{:.4f} | accuracy :{:4f} | kappa_score:{:4f} | auc_score:{:4f} | final_score:{:4f}'\n",
        "              .format(epoch+1, num_epochs, (epoch_loss/(k+1)), (f1_add/(k+1)),(accuracy_add/(k+1)),  \n",
        "              (k_add/(k+1)),(auc_add/(k+1)),final_score/(k+1) ))\n",
        "        training_values.append(epoch_loss/(k+1))\n",
        "        accuracy_train_values.append((accuracy_add/(k+1)))\n",
        "\n",
        "\n",
        "# *****************************************************************************************************************************\n",
        "    epoch_loss_val = 0\n",
        "    f1_add_val = 0\n",
        "    accuracy_add_val = 0\n",
        "    k_add_val = 0\n",
        "    auc_add_val = 0\n",
        "    final_score_val = 0\n",
        "\n",
        "    for z,val_img in enumerate(validateloader):\n",
        "\n",
        "        inputs_left,inputs_right,labels = val_img\n",
        "        #print(inputs_left.shape,inputs_right.shape)\n",
        "        final = torch.cat((inputs_left,inputs_right),2)\n",
        "        #print('Image output before interpolation',final.shape)\n",
        "        final = F.interpolate(final,224)\n",
        "        final = final.unsqueeze_(0)\n",
        "        final = final.reshape(batch_size_train,3,img_width,img_height)\n",
        "\n",
        "        optimizer.zero_grad()                                                        # zeroes the gradient buffers of all parameters\n",
        "        \n",
        "        with torch.no_grad(): \n",
        "            final = final.cuda()\n",
        "            labels = labels.cuda()\n",
        "        \n",
        "            model_conv.eval()\n",
        "            outputs = model_conv(final)                                           # outputs.shape =(batch_size, n_classes, img_cols, img_rows)\n",
        "\n",
        "            loss = criterion(outputs, labels.float())\n",
        "            epoch_loss_val += loss.item()\n",
        "\n",
        "        labels = labels.cpu().detach().numpy()\n",
        "        outputs = outputs.cpu().detach().numpy()\n",
        "\n",
        "        f1score_, k_score_, roc_score_, accuracy_score_ = metrics(labels, outputs)\n",
        "        f1_add_val    += f1score_\n",
        "        k_add_val     += k_score_\n",
        "        auc_add_val   += roc_score_\n",
        "        accuracy_add_val += accuracy_score_\n",
        "        final      = (f1score_ + k_score_ + auc_score_)/3\n",
        "        final_score_val += final\n",
        "        \n",
        "        if z == 6:                                                              # z is 20 for batch size 32;  700  validation images (20% of 3500 patients)\n",
        "          break\n",
        "             \n",
        "    print('[Validation][Epoch [{}/{}]  Loss: {:.4f} | f1_score:{:.4f} | accuracy_score:{:4f} | kappa_score:{:4f} | auc_score:{:4f} | final_score:{:4f}, '\n",
        "            .format(epoch+1, num_epochs, (epoch_loss_val/(z+1)), (f1_add_val/(z+1)), (accuracy_add_val/(z+1)), \n",
        "            (k_add_val/(z+1)),(auc_add_val/(z+1)),final_score_val/(z+1) ))\n",
        "    print('--------------------------------------------------------------------------------------------------------------------------------------------------')\n",
        "    validation_values.append(epoch_loss_val/(z+1))\n",
        "    accuracy_val_values.append((accuracy_add_val/(z+1)))\n"
      ],
      "execution_count": null,
      "outputs": [
        {
          "output_type": "display_data",
          "data": {
            "application/vnd.jupyter.widget-view+json": {
              "model_id": "4e75d640e35b46ef8db5e273397637db",
              "version_minor": 0,
              "version_major": 2
            },
            "text/plain": [
              "HBox(children=(IntProgress(value=0, max=15), HTML(value='')))"
            ]
          },
          "metadata": {
            "tags": []
          }
        },
        {
          "output_type": "stream",
          "text": [
            "/usr/local/lib/python3.6/dist-packages/sklearn/metrics/classification.py:1437: UndefinedMetricWarning: F-score is ill-defined and being set to 0.0 in labels with no predicted samples.\n",
            "  'precision', 'predicted', average, warn_for)\n"
          ],
          "name": "stderr"
        },
        {
          "output_type": "stream",
          "text": [
            "[Training] Epoch [1/15] | Loss: 0.6669 | f1_score:0.7479 | accuracy :0.770287 | kappa_score:0.088128 | auc_score:0.549786 | final_score:0.461954\n",
            "[Validation][Epoch [1/15]  Loss: 0.6700 | f1_score:0.8004 | accuracy_score:0.863281 | kappa_score:0.000000 | auc_score:0.500000 | final_score:0.461731, \n",
            "--------------------------------------------------------------------------------------------------------------------------------------------------\n",
            "[Training] Epoch [2/15] | Loss: 0.5754 | f1_score:0.7885 | accuracy :0.825983 | kappa_score:0.183637 | auc_score:0.594732 | final_score:0.522293\n",
            "[Validation][Epoch [2/15]  Loss: 0.5950 | f1_score:0.8001 | accuracy_score:0.861607 | kappa_score:0.000128 | auc_score:0.499841 | final_score:0.479308, \n",
            "--------------------------------------------------------------------------------------------------------------------------------------------------\n",
            "[Training] Epoch [3/15] | Loss: 0.5116 | f1_score:0.8054 | accuracy :0.846522 | kappa_score:0.241036 | auc_score:0.618695 | final_score:0.555053\n",
            "[Validation][Epoch [3/15]  Loss: 0.5327 | f1_score:0.7778 | accuracy_score:0.819754 | kappa_score:-0.049490 | auc_score:0.475553 | final_score:0.432270, \n",
            "--------------------------------------------------------------------------------------------------------------------------------------------------\n",
            "[Training] Epoch [4/15] | Loss: 0.4674 | f1_score:0.8181 | accuracy :0.857485 | kappa_score:0.281610 | auc_score:0.636264 | final_score:0.578650\n",
            "[Validation][Epoch [4/15]  Loss: 0.5045 | f1_score:0.7660 | accuracy_score:0.797433 | kappa_score:-0.075765 | auc_score:0.462638 | final_score:0.424259, \n",
            "--------------------------------------------------------------------------------------------------------------------------------------------------\n",
            "[Training] Epoch [5/15] | Loss: 0.4399 | f1_score:0.8256 | accuracy :0.860383 | kappa_score:0.319022 | auc_score:0.654745 | final_score:0.599775\n",
            "[Validation][Epoch [5/15]  Loss: 0.4870 | f1_score:0.7579 | accuracy_score:0.782366 | kappa_score:-0.093750 | auc_score:0.453869 | final_score:0.444111, \n",
            "--------------------------------------------------------------------------------------------------------------------------------------------------\n",
            "[Training] Epoch [6/15] | Loss: 0.4119 | f1_score:0.8342 | accuracy :0.866683 | kappa_score:0.358569 | auc_score:0.673742 | final_score:0.622158\n",
            "[Validation][Epoch [6/15]  Loss: 0.4744 | f1_score:0.7502 | accuracy_score:0.767857 | kappa_score:-0.111097 | auc_score:0.445419 | final_score:0.433272, \n",
            "--------------------------------------------------------------------------------------------------------------------------------------------------\n",
            "[Training] Epoch [7/15] | Loss: 0.3864 | f1_score:0.8488 | accuracy :0.875252 | kappa_score:0.418830 | auc_score:0.701697 | final_score:0.656432\n",
            "[Validation][Epoch [7/15]  Loss: 0.4645 | f1_score:0.7483 | accuracy_score:0.763393 | kappa_score:-0.112883 | auc_score:0.444675 | final_score:0.462441, \n",
            "--------------------------------------------------------------------------------------------------------------------------------------------------\n",
            "[Training] Epoch [8/15] | Loss: 0.3743 | f1_score:0.8442 | accuracy :0.871724 | kappa_score:0.402534 | auc_score:0.694228 | final_score:0.646995\n",
            "[Validation][Epoch [8/15]  Loss: 0.4569 | f1_score:0.7448 | accuracy_score:0.756696 | kappa_score:-0.120536 | auc_score:0.440848 | final_score:0.425093, \n",
            "--------------------------------------------------------------------------------------------------------------------------------------------------\n",
            "[Training] Epoch [9/15] | Loss: 0.3667 | f1_score:0.8417 | accuracy :0.868952 | kappa_score:0.398805 | auc_score:0.692872 | final_score:0.644447\n",
            "[Validation][Epoch [9/15]  Loss: 0.4508 | f1_score:0.7424 | accuracy_score:0.752232 | kappa_score:-0.125638 | auc_score:0.438297 | final_score:0.445044, \n",
            "--------------------------------------------------------------------------------------------------------------------------------------------------\n",
            "[Training] Epoch [10/15] | Loss: 0.3606 | f1_score:0.8476 | accuracy :0.873488 | kappa_score:0.416469 | auc_score:0.700737 | final_score:0.654932\n",
            "[Validation][Epoch [10/15]  Loss: 0.4462 | f1_score:0.7412 | accuracy_score:0.750000 | kappa_score:-0.128189 | auc_score:0.437022 | final_score:0.433256, \n",
            "--------------------------------------------------------------------------------------------------------------------------------------------------\n",
            "[Training] Epoch [11/15] | Loss: 0.3468 | f1_score:0.8550 | accuracy :0.878150 | kappa_score:0.446850 | auc_score:0.714281 | final_score:0.672029\n",
            "[Validation][Epoch [11/15]  Loss: 0.4417 | f1_score:0.7406 | accuracy_score:0.748884 | kappa_score:-0.129464 | auc_score:0.436384 | final_score:0.448382, \n",
            "--------------------------------------------------------------------------------------------------------------------------------------------------\n",
            "[Training] Epoch [12/15] | Loss: 0.3423 | f1_score:0.8514 | accuracy :0.873866 | kappa_score:0.438239 | auc_score:0.711533 | final_score:0.667045\n",
            "[Validation][Epoch [12/15]  Loss: 0.4382 | f1_score:0.7397 | accuracy_score:0.747210 | kappa_score:-0.131633 | auc_score:0.435374 | final_score:0.445502, \n",
            "--------------------------------------------------------------------------------------------------------------------------------------------------\n",
            "[Training] Epoch [13/15] | Loss: 0.3383 | f1_score:0.8595 | accuracy :0.880670 | kappa_score:0.470199 | auc_score:0.725562 | final_score:0.685095\n",
            "[Validation][Epoch [13/15]  Loss: 0.4351 | f1_score:0.7391 | accuracy_score:0.746094 | kappa_score:-0.132908 | auc_score:0.434736 | final_score:0.439919, \n",
            "--------------------------------------------------------------------------------------------------------------------------------------------------\n",
            "[Training] Epoch [14/15] | Loss: 0.3290 | f1_score:0.8539 | accuracy :0.875630 | kappa_score:0.447782 | auc_score:0.715553 | final_score:0.672395\n",
            "[Validation][Epoch [14/15]  Loss: 0.4324 | f1_score:0.7388 | accuracy_score:0.745536 | kappa_score:-0.133546 | auc_score:0.434418 | final_score:0.440351, \n",
            "--------------------------------------------------------------------------------------------------------------------------------------------------\n",
            "[Training] Epoch [15/15] | Loss: 0.3253 | f1_score:0.8555 | accuracy :0.878402 | kappa_score:0.455176 | auc_score:0.719350 | final_score:0.676661\n",
            "[Validation][Epoch [15/15]  Loss: 0.4308 | f1_score:0.7382 | accuracy_score:0.744420 | kappa_score:-0.134821 | auc_score:0.433780 | final_score:0.438611, \n",
            "--------------------------------------------------------------------------------------------------------------------------------------------------\n"
          ],
          "name": "stdout"
        }
      ]
    },
    {
      "cell_type": "markdown",
      "metadata": {
        "id": "xP0tcnZPD4CW"
      },
      "source": [
        "reviewing Diabetic retinopathy https://yerevann.github.io/2015/08/17/diabetic-retinopathy-detection-contest-what-we-did-wrong/\n"
      ]
    },
    {
      "cell_type": "code",
      "metadata": {
        "id": "QgTSpYLfiUnC",
        "outputId": "dc6552b2-92eb-47ae-a8d0-2ab9a9c56a23",
        "colab": {
          "base_uri": "https://localhost:8080/",
          "height": 297
        }
      },
      "source": [
        "from matplotlib import pyplot\n",
        "from google.colab import files\n",
        "plt.figure()\n",
        "plt.plot(np.arange(num_epochs),training_values,'r--')\n",
        "plt.plot(np.arange(num_epochs),validation_values,'b')\n",
        "plt.ylabel('loss')\n",
        "plt.xlabel('epochs')\n",
        "plt.legend(['train','validation'])\n",
        "plt.show()\n",
        "plt.savefig('pytorch_inception_v3_concatenated_loss_graph.png')\n",
        "#files.download('pytorch_inception_v3_concatenated_loss_graph.png')"
      ],
      "execution_count": null,
      "outputs": [
        {
          "output_type": "display_data",
          "data": {
            "image/png": "[encoded data removed]",
            "text/plain": [
              "<Figure size 432x288 with 1 Axes>"
            ]
          },
          "metadata": {
            "tags": []
          }
        },
        {
          "output_type": "display_data",
          "data": {
            "text/plain": [
              "<Figure size 432x288 with 0 Axes>"
            ]
          },
          "metadata": {
            "tags": []
          }
        }
      ]
    },
    {
      "cell_type": "code",
      "metadata": {
        "id": "F4RxCwUZeExY",
        "outputId": "23ac688f-eb9f-4c33-ea4e-6c095433639e",
        "colab": {
          "base_uri": "https://localhost:8080/",
          "height": 279
        }
      },
      "source": [
        "from matplotlib import pyplot\n",
        "from google.colab import files\n",
        "plt.figure()\n",
        "plt.plot(np.arange(num_epochs),accuracy_train_values,'r--')\n",
        "plt.plot(np.arange(num_epochs),accuracy_val_values,'b')\n",
        "plt.ylabel('accuracy score')\n",
        "plt.xlabel('epochs')\n",
        "plt.legend(['train','validation'])\n",
        "plt.show()\n",
        "# plt.savefig('vishal_pytorch_inception_v3_left&right_f1score_graph.png')"
      ],
      "execution_count": null,
      "outputs": [
        {
          "output_type": "display_data",
          "data": {
            "image/png": "[encoded data removed]",
            "text/plain": [
              "<Figure size 432x288 with 1 Axes>"
            ]
          },
          "metadata": {
            "tags": []
          }
        }
      ]
    },
    {
      "cell_type": "code",
      "metadata": {
        "id": "L89G3H5NH9d4"
      },
      "source": [
        "# print(validation_values,'\\n',training_values )"
      ],
      "execution_count": null,
      "outputs": []
    },
    {
      "cell_type": "code",
      "metadata": {
        "id": "81-lYAgvGt56"
      },
      "source": [
        "torch.save(model_conv.state_dict(), 'Rajat_pytorch_VGG_15epoch_nonpretrained_0001lr_BCE_SGD_concatenated_batch32.pt')"
      ],
      "execution_count": null,
      "outputs": []
    },
    {
      "cell_type": "code",
      "metadata": {
        "id": "Lg5XAT5iHfzW"
      },
      "source": [],
      "execution_count": null,
      "outputs": []
    }
  ]
}